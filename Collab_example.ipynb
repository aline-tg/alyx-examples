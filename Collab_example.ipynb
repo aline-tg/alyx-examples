{
  "nbformat": 4,
  "nbformat_minor": 0,
  "metadata": {
    "colab": {
      "name": "Collab_example.ipynb",
      "provenance": [],
      "collapsed_sections": []
    },
    "kernelspec": {
      "name": "python3",
      "display_name": "Python 3"
    },
    "language_info": {
      "name": "python"
    }
  },
  "cells": [
    {
      "cell_type": "markdown",
      "metadata": {
        "id": "Mt7dbq9JQPEf"
      },
      "source": [
        "Você pode adicionar células de texto no seu notebook!\n"
      ]
    },
    {
      "cell_type": "code",
      "metadata": {
        "colab": {
          "base_uri": "https://localhost:8080/"
        },
        "id": "Ku99NMXBNu2I",
        "outputId": "74620878-2d89-4ec5-c404-50b065e31507"
      },
      "source": [
        "#aqui você pode imprimir uma informação\n",
        "print(\"Hello World com o Collab :) \")"
      ],
      "execution_count": null,
      "outputs": [
        {
          "output_type": "stream",
          "name": "stdout",
          "text": [
            "Hello World com o Collab :) \n"
          ]
        }
      ]
    },
    {
      "cell_type": "code",
      "metadata": {
        "colab": {
          "base_uri": "https://localhost:8080/"
        },
        "id": "PtREHk6EP1zf",
        "outputId": "b877bd63-16b1-4408-db43-e40f73f87106"
      },
      "source": [
        "#fazer contas\n",
        "2+2"
      ],
      "execution_count": null,
      "outputs": [
        {
          "output_type": "execute_result",
          "data": {
            "text/plain": [
              "4"
            ]
          },
          "metadata": {},
          "execution_count": 2
        }
      ]
    },
    {
      "cell_type": "code",
      "metadata": {
        "colab": {
          "base_uri": "https://localhost:8080/"
        },
        "id": "6HV1oJdMQiNB",
        "outputId": "09d94b35-d1dd-497a-d65f-69e8a6bb90cf"
      },
      "source": [
        "#você também pode escrever equações :) \n",
        "x= 1\n",
        "y=3\n",
        "\n",
        "w = 3*x + y\n",
        "\n",
        "print(w)"
      ],
      "execution_count": null,
      "outputs": [
        {
          "output_type": "stream",
          "name": "stdout",
          "text": [
            "6\n"
          ]
        }
      ]
    }
  ]
}